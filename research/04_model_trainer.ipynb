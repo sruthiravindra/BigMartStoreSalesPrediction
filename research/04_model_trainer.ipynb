{
 "cells": [
  {
   "cell_type": "code",
   "execution_count": 1,
   "metadata": {},
   "outputs": [],
   "source": [
    "import os"
   ]
  },
  {
   "cell_type": "code",
   "execution_count": 2,
   "metadata": {},
   "outputs": [],
   "source": [
    "os.chdir(\"../\")"
   ]
  },
  {
   "cell_type": "code",
   "execution_count": 3,
   "metadata": {},
   "outputs": [
    {
     "data": {
      "text/plain": [
       "'d:\\\\python_project\\\\DataScience\\\\StoresSalesPrediction\\\\BigMartStoreSalesPrediction'"
      ]
     },
     "execution_count": 3,
     "metadata": {},
     "output_type": "execute_result"
    }
   ],
   "source": [
    "%pwd"
   ]
  },
  {
   "cell_type": "code",
   "execution_count": 4,
   "metadata": {},
   "outputs": [],
   "source": [
    "from dataclasses import dataclass\n",
    "from pathlib import Path\n",
    "\n",
    "@dataclass(frozen=True)\n",
    "class ModelTrainerConfig:\n",
    "    root_dir: Path\n",
    "    train_data_path: Path\n",
    "    test_data_path: Path\n",
    "    model_name: str\n",
    "    alpha: float\n",
    "    l1_ratio: float\n",
    "    target_column: str"
   ]
  },
  {
   "cell_type": "code",
   "execution_count": 5,
   "metadata": {},
   "outputs": [],
   "source": [
    "from salesPrediction.constants import *\n",
    "from salesPrediction.utils.common import read_yaml, create_directories, get_complete_schema_structure\n",
    "import pandas as pd\n",
    "from sklearn.linear_model import ElasticNet\n",
    "import joblib\n"
   ]
  },
  {
   "cell_type": "code",
   "execution_count": 6,
   "metadata": {},
   "outputs": [],
   "source": [
    "class ConfigurationManager:\n",
    "    def __init__(self,\n",
    "                 config_path= CONFIG_FILE_PATH,\n",
    "                 params_path= PARAMS_FILE_PATH,\n",
    "                 schema_path= SCHEMA_FILE_PATH):\n",
    "        \n",
    "        self.config = read_yaml(config_path)\n",
    "        self.params = read_yaml(params_path)\n",
    "        self.schema = read_yaml(schema_path)\n",
    "\n",
    "        create_directories([self.config.artifacts_root])\n",
    "\n",
    "    def get_model_trainer_config(self)-> ModelTrainerConfig:\n",
    "        config = self.config.model_trainer\n",
    "        params = self.params.ElasticNet\n",
    "        target_column = list(self.schema.TARGET_COLUMN.keys())[0]\n",
    "\n",
    "\n",
    "        create_directories([config.root_dir])\n",
    "\n",
    "        model_trainer_config = ModelTrainerConfig(\n",
    "            root_dir=config.root_dir,\n",
    "            train_data_path=config.train_data_path,\n",
    "            test_data_path=config.test_data_path,\n",
    "            model_name=config.model_name,\n",
    "            alpha=params.alpha,\n",
    "            l1_ratio=params.l1_ratio,\n",
    "            target_column=target_column\n",
    "        )\n",
    "\n",
    "        return model_trainer_config\n",
    "\n",
    "        "
   ]
  },
  {
   "cell_type": "code",
   "execution_count": null,
   "metadata": {},
   "outputs": [],
   "source": [
    "class ModelTrainer:\n",
    "    def __init__(self, config: ModelTrainerConfig):\n",
    "        self.config = config\n",
    "\n",
    "    def Train(self):\n",
    "        train_schema, test_schema, tranformed_cols_to_drop = get_complete_schema_structure(SCHEMA_FILE_PATH)\n",
    "\n",
    "        train_data = pd.read_csv(self.config.train_data_path, dtype=train_schema)\n",
    "        test_data = pd.read_csv(self.config.test_data_path, dtype=test_schema)\n",
    "\n",
    "        train_data.drop(columns=[col for col in tranformed_cols_to_drop if col in train_data.columns], axis=1, inplace=True)\n",
    "        test_data.drop(columns=[col for col in tranformed_cols_to_drop if col in test_data.columns], axis=1, inplace=True)\n",
    "\n",
    "        train_x  = train_data.drop([self.config.target_column], axis=1)\n",
    "        train_y = train_data[[self.config.target_column]] \n",
    "\n",
    "        print(train_x.dtypes)\n",
    "        print(train_y.dtypes)\n",
    "\n",
    "        lr = ElasticNet(alpha=self.config.alpha, l1_ratio=self.config.l1_ratio, random_state=42)\n",
    "        lr.fit(train_x, train_y)\n",
    "\n",
    "        joblib.dump(lr, os.path.join(self.config.root_dir, self.config.model_name))"
   ]
  },
  {
   "cell_type": "code",
   "execution_count": 8,
   "metadata": {},
   "outputs": [
    {
     "name": "stdout",
     "output_type": "stream",
     "text": [
      "[2025-03-21 19:17:20,673: common:yaml file: config\\config.yaml loaded successfully]\n",
      "[2025-03-21 19:17:20,676: common:yaml file: params.yaml loaded successfully]\n",
      "[2025-03-21 19:17:20,679: common:yaml file: schema.yaml loaded successfully]\n",
      "[2025-03-21 19:17:20,681: common:created directory at artifacts]\n",
      "[2025-03-21 19:17:20,681: common:created directory at artifacts/data_transformation]\n",
      "[2025-03-21 19:17:20,685: common:yaml file: schema.yaml loaded successfully]\n",
      "{'Item_Identifier': 'string', 'Item_Weight': 'float64', 'Item_Fat_Content': 'object', 'Item_Visibility': 'float64', 'Item_Type': 'object', 'Item_MRP': 'float64', 'Outlet_Identifier': 'string', 'Outlet_Establishment_Year': 'int64', 'Outlet_Size': 'object', 'Outlet_Location_Type': 'object', 'Outlet_Type': 'object', 'Item_Outlet_Sales': 'float64'}\n",
      "artifacts/data_transformation/Train.csv\n",
      "====================\n",
      "Item_Weight                             float64\n",
      "Item_Fat_Content                         object\n",
      "Item_Visibility                         float64\n",
      "Item_MRP                                float64\n",
      "Outlet_Establishment_Year                 int64\n",
      "Outlet_Size                              object\n",
      "Outlet_Location_Type                     object\n",
      "Outlet_Type_Grocery Store               float64\n",
      "Outlet_Type_Supermarket Type1           float64\n",
      "Outlet_Type_Supermarket Type2           float64\n",
      "Outlet_Type_Supermarket Type3           float64\n",
      "Outlet_Type_LabelEncoded                  int64\n",
      "Item_Type_Feature_Encoded_Beverages     float64\n",
      "Item_Type_Feature_Encoded_Fresh         float64\n",
      "Item_Type_Feature_Encoded_Non-Food      float64\n",
      "Item_Type_Feature_Encoded_Other         float64\n",
      "Item_Type_Feature_Encoded_Packaged      float64\n",
      "Item_Type_Feature_Encoded_Perishable    float64\n",
      "Item_Type_Feature_Encoded_Processed     float64\n",
      "dtype: object\n",
      "Item_Outlet_Sales    float64\n",
      "dtype: object\n"
     ]
    }
   ],
   "source": [
    "try:\n",
    "    config = ConfigurationManager()\n",
    "    model_trainer_config = config.get_model_trainer_config()\n",
    "    model_trainer = ModelTrainer(config=model_trainer_config)\n",
    "    model_trainer.Train()\n",
    "    \n",
    "except Exception as e:\n",
    "    raise(e)"
   ]
  },
  {
   "cell_type": "code",
   "execution_count": null,
   "metadata": {},
   "outputs": [],
   "source": []
  }
 ],
 "metadata": {
  "kernelspec": {
   "display_name": "venv",
   "language": "python",
   "name": "python3"
  },
  "language_info": {
   "codemirror_mode": {
    "name": "ipython",
    "version": 3
   },
   "file_extension": ".py",
   "mimetype": "text/x-python",
   "name": "python",
   "nbconvert_exporter": "python",
   "pygments_lexer": "ipython3",
   "version": "3.9.0"
  }
 },
 "nbformat": 4,
 "nbformat_minor": 2
}
