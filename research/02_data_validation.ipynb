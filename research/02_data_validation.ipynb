{
 "cells": [
  {
   "cell_type": "code",
   "execution_count": 1,
   "metadata": {},
   "outputs": [],
   "source": [
    "import os"
   ]
  },
  {
   "cell_type": "code",
   "execution_count": 2,
   "metadata": {},
   "outputs": [],
   "source": [
    "os.chdir(\"../\")"
   ]
  },
  {
   "cell_type": "code",
   "execution_count": 3,
   "metadata": {},
   "outputs": [
    {
     "data": {
      "text/plain": [
       "'d:\\\\python_project\\\\DataScience\\\\StoresSalesPrediction\\\\BigMartStoreSalesPrediction'"
      ]
     },
     "execution_count": 3,
     "metadata": {},
     "output_type": "execute_result"
    }
   ],
   "source": [
    "%pwd"
   ]
  },
  {
   "cell_type": "code",
   "execution_count": null,
   "metadata": {},
   "outputs": [],
   "source": [
    "#create data validation entity\n",
    "from dataclasses import dataclass\n",
    "from pathlib import Path\n",
    "\n",
    "@dataclass(frozen=True)\n",
    "class DataValidationConfig:\n",
    "    root_dir: Path\n",
    "    unzip_data_dir: Path\n",
    "    STATUS_FILE: str\n",
    "    all_schema: dict\n",
    "    target_variable: dict "
   ]
  },
  {
   "cell_type": "code",
   "execution_count": 5,
   "metadata": {},
   "outputs": [],
   "source": [
    "from salesPrediction.constants import *\n",
    "from salesPrediction.utils.common import read_yaml, create_directories"
   ]
  },
  {
   "cell_type": "code",
   "execution_count": 6,
   "metadata": {},
   "outputs": [],
   "source": [
    "class ConfigurationManager:\n",
    "    def __init__(\n",
    "        self,\n",
    "        config_filepath = CONFIG_FILE_PATH,\n",
    "        params_filepath = PARAMS_FILE_PATH,\n",
    "        schema_filepath = SCHEMA_FILE_PATH):\n",
    "\n",
    "        self.config = read_yaml(config_filepath)\n",
    "        self.params = read_yaml(params_filepath)\n",
    "        self.schema = read_yaml(schema_filepath)\n",
    "\n",
    "        create_directories([self.config.artifacts_root])\n",
    "\n",
    "\n",
    "    \n",
    "    def get_data_validation_config(self) -> DataValidationConfig:\n",
    "        config = self.config.data_validation\n",
    "        schema = self.schema.COLUMNS\n",
    "        target_variable = self.schema.TARGET_COLUMN\n",
    "\n",
    "        create_directories([config.root_dir])\n",
    "\n",
    "        data_validation_config = DataValidationConfig(\n",
    "            root_dir=config.root_dir,\n",
    "            STATUS_FILE=config.STATUS_FILE,\n",
    "            unzip_data_dir = config.unzip_data_dir,\n",
    "            all_schema=schema,\n",
    "            target_variable = target_variable\n",
    "        )\n",
    "\n",
    "        return data_validation_config"
   ]
  },
  {
   "cell_type": "code",
   "execution_count": 7,
   "metadata": {},
   "outputs": [],
   "source": [
    "import os\n",
    "from salesPrediction import logger\n",
    "import pandas as pd"
   ]
  },
  {
   "cell_type": "code",
   "execution_count": null,
   "metadata": {},
   "outputs": [],
   "source": [
    "class DataValidation:\n",
    "    def __init__(self, config: DataValidationConfig):\n",
    "        self.config = config\n",
    "\n",
    "    def validate_all_columns(self)-> bool:\n",
    "        try:\n",
    "            validation_status = None\n",
    "\n",
    "            data = pd.read_csv(self.config.unzip_data_dir)\n",
    "            all_cols = list(data.columns)\n",
    "\n",
    "            all_schema = self.config.all_schema.keys()\n",
    "            target_variable = self.config.target_variable.keys()\n",
    "            \n",
    "            for col in all_cols:\n",
    "                if col not in all_schema and col not in target_variable:\n",
    "                    validation_status = False\n",
    "                    with open(self.config.STATUS_FILE, \"w\") as f:\n",
    "                        f.write(f\"Validation Status col: {validation_status}\")\n",
    "                else:\n",
    "                    validation_status = True\n",
    "                    with open(self.config.STATUS_FILE, \"w\") as f:\n",
    "                        f.write(f\"Validation Status col: {validation_status}\")\n",
    "\n",
    "            return validation_status\n",
    "        except Exception as e:\n",
    "            raise e\n",
    "\n",
    "    def validate_datatype(self) -> bool:\n",
    "        try:\n",
    "            validation_status = None\n",
    "\n",
    "            data = pd.read_csv(self.config.unzip_data_dir)\n",
    "            all_cols = list(data.columns)\n",
    "            col_types = data.dtypes.to_dict()\n",
    "\n",
    "            all_schema = self.config.all_schema\n",
    "\n",
    "            for col in all_cols:\n",
    "                if col not in all_schema:\n",
    "                    validation_status = False\n",
    "                    with open(self.config.STATUS_FILE, \"w\") as f:\n",
    "                        f.write(f\"Validation Status: {validation_status}\")\n",
    "                else:\n",
    "                    if data[col].dtype != all_schema[col]:\n",
    "                        validation_status = False\n",
    "                        with open(self.config.STATUS_FILE, \"w\") as f:\n",
    "                            f.write(f\"Validation Status: {validation_status}\")\n",
    "                    else:\n",
    "                        validation_status = True\n",
    "                        with open(self.config.STATUS_FILE, \"w\") as f:\n",
    "                            f.write(f\"Validation Status: {validation_status}\")\n",
    "        except Exception as e:\n",
    "            raise e\n",
    "\n",
    "        "
   ]
  },
  {
   "cell_type": "code",
   "execution_count": 9,
   "metadata": {},
   "outputs": [
    {
     "name": "stdout",
     "output_type": "stream",
     "text": [
      "[2025-02-23 01:12:32,737: common:yaml file: config\\config.yaml loaded successfully]\n",
      "[2025-02-23 01:12:32,742: common:yaml file: params.yaml loaded successfully]\n",
      "[2025-02-23 01:12:32,746: common:yaml file: schema.yaml loaded successfully]\n",
      "[2025-02-23 01:12:32,748: common:created directory at artifacts]\n",
      "[2025-02-23 01:12:32,748: common:created directory at artifacts/data_validation]\n"
     ]
    },
    {
     "data": {
      "text/plain": [
       "DataValidationConfig(root_dir='artifacts/data_validation', unzip_data_dir='research/Train.csv', STATUS_FILE='artifacts/data_validation/status.txt', all_schema=ConfigBox({'Item_Identifier': 'string', 'Item_Weight': 'float64', 'Item_Fat_Content': 'string', 'Item_Visibility': 'float64', 'Item_Type': 'string', 'Item_MRP': 'float64', 'Outlet_Identifier': 'string', 'Outlet_Establishment_Year': 'int64', 'Outlet_Size': 'string', 'Outlet_Location_Type': 'string', 'Outlet_Type': 'string'}), target_variable=ConfigBox({'Item_Outlet_Sales': 'float64'}))"
      ]
     },
     "execution_count": 9,
     "metadata": {},
     "output_type": "execute_result"
    }
   ],
   "source": [
    "config = ConfigurationManager()\n",
    "data_validation_config = config.get_data_validation_config()\n",
    "data_validation_config"
   ]
  },
  {
   "cell_type": "code",
   "execution_count": 10,
   "metadata": {},
   "outputs": [
    {
     "name": "stdout",
     "output_type": "stream",
     "text": [
      "[2025-02-23 01:12:32,776: common:yaml file: config\\config.yaml loaded successfully]\n",
      "[2025-02-23 01:12:32,779: common:yaml file: params.yaml loaded successfully]\n",
      "[2025-02-23 01:12:32,782: common:yaml file: schema.yaml loaded successfully]\n",
      "[2025-02-23 01:12:32,782: common:created directory at artifacts]\n",
      "[2025-02-23 01:12:32,782: common:created directory at artifacts/data_validation]\n"
     ]
    }
   ],
   "source": [
    "try:\n",
    "    config = ConfigurationManager()\n",
    "    data_validation_config = config.get_data_validation_config()\n",
    "    data_validation = DataValidation(data_validation_config)\n",
    "    data_validation.validate_all_columns()\n",
    "\n",
    "except Exception as e:\n",
    "    raise e\n"
   ]
  },
  {
   "cell_type": "code",
   "execution_count": null,
   "metadata": {},
   "outputs": [],
   "source": []
  }
 ],
 "metadata": {
  "kernelspec": {
   "display_name": "venv",
   "language": "python",
   "name": "python3"
  },
  "language_info": {
   "codemirror_mode": {
    "name": "ipython",
    "version": 3
   },
   "file_extension": ".py",
   "mimetype": "text/x-python",
   "name": "python",
   "nbconvert_exporter": "python",
   "pygments_lexer": "ipython3",
   "version": "3.9.0"
  }
 },
 "nbformat": 4,
 "nbformat_minor": 2
}
