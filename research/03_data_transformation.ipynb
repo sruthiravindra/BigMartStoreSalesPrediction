{
 "cells": [
  {
   "cell_type": "code",
   "execution_count": 1,
   "metadata": {},
   "outputs": [],
   "source": [
    "import os"
   ]
  },
  {
   "cell_type": "code",
   "execution_count": 2,
   "metadata": {},
   "outputs": [
    {
     "data": {
      "text/plain": [
       "'d:\\\\python_project\\\\DataScience\\\\StoresSalesPrediction\\\\BigMartStoreSalesPrediction\\\\research'"
      ]
     },
     "execution_count": 2,
     "metadata": {},
     "output_type": "execute_result"
    }
   ],
   "source": [
    "%pwd"
   ]
  },
  {
   "cell_type": "code",
   "execution_count": 3,
   "metadata": {},
   "outputs": [],
   "source": [
    "os.chdir(\"../\")"
   ]
  },
  {
   "cell_type": "code",
   "execution_count": 4,
   "metadata": {},
   "outputs": [
    {
     "data": {
      "text/plain": [
       "'d:\\\\python_project\\\\DataScience\\\\StoresSalesPrediction\\\\BigMartStoreSalesPrediction'"
      ]
     },
     "execution_count": 4,
     "metadata": {},
     "output_type": "execute_result"
    }
   ],
   "source": [
    "%pwd"
   ]
  },
  {
   "cell_type": "code",
   "execution_count": 5,
   "metadata": {},
   "outputs": [],
   "source": [
    "from dataclasses import dataclass\n",
    "from pathlib import Path\n",
    "\n",
    "@dataclass(frozen=True)\n",
    "class DataTransformationConfig:\n",
    "    root_dir: Path\n",
    "    data_path: Path\n",
    "    train_data_path: Path\n",
    "    test_data_path: Path\n",
    "    mismatch_data_type_path: Path"
   ]
  },
  {
   "cell_type": "code",
   "execution_count": 6,
   "metadata": {},
   "outputs": [],
   "source": [
    "from salesPrediction.constants import *\n",
    "from salesPrediction.utils.common import read_yaml, create_directories"
   ]
  },
  {
   "cell_type": "code",
   "execution_count": 7,
   "metadata": {},
   "outputs": [],
   "source": [
    "class ConfigurationManager:\n",
    "    def __init__(\n",
    "            self,\n",
    "            config_filepath = CONFIG_FILE_PATH,\n",
    "            params_filepath = PARAMS_FILE_PATH,\n",
    "            schema_filepath = SCHEMA_FILE_PATH):\n",
    "        \n",
    "        self.config = read_yaml(config_filepath)\n",
    "        self.params = read_yaml(params_filepath)\n",
    "        self.schema = read_yaml(schema_filepath)\n",
    "\n",
    "        create_directories([self.config.artifacts_root])       \n",
    "\n",
    "    def get_data_transformation_config(self) -> DataTransformationConfig:\n",
    "        config = self.config.data_transformation\n",
    "\n",
    "        create_directories([config.root_dir])\n",
    "\n",
    "        data_transformation_config = DataTransformationConfig(\n",
    "            root_dir=config.root_dir,\n",
    "            data_path=config.data_path,\n",
    "            train_data_path=config.train_data_path,\n",
    "            test_data_path=config.test_data_path,\n",
    "            mismatch_data_type_path = config.mismatch_data_type_path\n",
    "        )\n",
    "\n",
    "        return data_transformation_config\n",
    " "
   ]
  },
  {
   "cell_type": "code",
   "execution_count": 8,
   "metadata": {},
   "outputs": [],
   "source": [
    "import os\n",
    "from salesPrediction import logger\n",
    "from sklearn.model_selection import train_test_split\n",
    "import pandas as pd"
   ]
  },
  {
   "cell_type": "code",
   "execution_count": 9,
   "metadata": {},
   "outputs": [],
   "source": [
    "import json\n",
    "\n",
    "\n"
   ]
  },
  {
   "cell_type": "code",
   "execution_count": 10,
   "metadata": {},
   "outputs": [],
   "source": [
    "class DataTransformation:\n",
    "    def __init__(self, config:DataTransformationConfig):\n",
    "        self.config = config\n",
    "\n",
    "    def convert_column_datatype(self):\n",
    "        try:\n",
    "\n",
    "            with open(self.config.mismatch_data_type_path, \"r\") as f:\n",
    "                mismatched_cols =  json.loads(f.read())\n",
    "                print(mismatched_cols)\n",
    "\n",
    "            data = pd.read_csv(self.config.train_data_path)\n",
    "            for col, dtype_info in mismatched_cols.items():\n",
    "                if dtype_info == \"string\":\n",
    "                    data[col].astype(\"string\")\n",
    "\n",
    "        except Exception as e:\n",
    "            raise e\n",
    "    \n",
    "    def train_test_splitting(self):\n",
    "        # we already have train and test data set in the resources folder, we only need to copy them \n",
    "        train_data = pd.read_csv(self.config.train_data_path)\n",
    "        test_data = pd.read_csv(self.config.test_data_path)\n",
    "        print(self.config.data_path)\n",
    "        train_data.to_csv(os.path.join(self.config.data_path, \"Train.csv\"), index=False)\n",
    "        test_data.to_csv(os.path.join(self.config.data_path, \"Test.csv\"), index= False)\n",
    "\n",
    "        logger.info(\"Completed saving train and test data to transformation folder\")\n",
    "        logger.info(train_data.shape)\n",
    "        logger.info(test_data.shape)\n",
    "\n",
    "        print(train_data.shape)\n",
    "        print(test_data.shape)"
   ]
  },
  {
   "cell_type": "code",
   "execution_count": 11,
   "metadata": {},
   "outputs": [
    {
     "name": "stdout",
     "output_type": "stream",
     "text": [
      "[2025-02-27 01:33:46,673: common:yaml file: config\\config.yaml loaded successfully]\n",
      "[2025-02-27 01:33:46,677: common:yaml file: params.yaml loaded successfully]\n",
      "[2025-02-27 01:33:46,681: common:yaml file: schema.yaml loaded successfully]\n",
      "[2025-02-27 01:33:46,683: common:created directory at artifacts]\n",
      "[2025-02-27 01:33:46,683: common:created directory at artifacts/data_transformation]\n",
      "{'Item_Identifier': {'expected': 'string', 'actual': 'object'}, 'Item_Fat_Content': {'expected': 'string', 'actual': 'object'}, 'Item_Type': {'expected': 'string', 'actual': 'object'}, 'Outlet_Identifier': {'expected': 'string', 'actual': 'object'}, 'Outlet_Size': {'expected': 'string', 'actual': 'object'}, 'Outlet_Location_Type': {'expected': 'string', 'actual': 'object'}, 'Outlet_Type': {'expected': 'string', 'actual': 'object'}}\n"
     ]
    }
   ],
   "source": [
    "try:\n",
    "    config = ConfigurationManager()\n",
    "    data_transformation_config = config.get_data_transformation_config()\n",
    "    data_transformation = DataTransformation(config=data_transformation_config)\n",
    "    data_transformation.convert_column_datatype()\n",
    "    # data_transformation.train_test_splitting()\n",
    "except Exception as e:\n",
    "    raise e\n"
   ]
  },
  {
   "cell_type": "code",
   "execution_count": null,
   "metadata": {},
   "outputs": [],
   "source": []
  }
 ],
 "metadata": {
  "kernelspec": {
   "display_name": "venv",
   "language": "python",
   "name": "python3"
  },
  "language_info": {
   "codemirror_mode": {
    "name": "ipython",
    "version": 3
   },
   "file_extension": ".py",
   "mimetype": "text/x-python",
   "name": "python",
   "nbconvert_exporter": "python",
   "pygments_lexer": "ipython3",
   "version": "3.9.0"
  }
 },
 "nbformat": 4,
 "nbformat_minor": 2
}
