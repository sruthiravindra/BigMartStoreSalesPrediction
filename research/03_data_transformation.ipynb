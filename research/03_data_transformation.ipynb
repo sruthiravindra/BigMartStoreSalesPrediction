{
 "cells": [
  {
   "cell_type": "code",
   "execution_count": 1,
   "metadata": {},
   "outputs": [],
   "source": [
    "import os"
   ]
  },
  {
   "cell_type": "code",
   "execution_count": 2,
   "metadata": {},
   "outputs": [
    {
     "data": {
      "text/plain": [
       "'d:\\\\python_project\\\\DataScience\\\\StoresSalesPrediction\\\\BigMartStoreSalesPrediction\\\\research'"
      ]
     },
     "execution_count": 2,
     "metadata": {},
     "output_type": "execute_result"
    }
   ],
   "source": [
    "%pwd"
   ]
  },
  {
   "cell_type": "code",
   "execution_count": 3,
   "metadata": {},
   "outputs": [],
   "source": [
    "os.chdir(\"../\")"
   ]
  },
  {
   "cell_type": "code",
   "execution_count": 4,
   "metadata": {},
   "outputs": [
    {
     "data": {
      "text/plain": [
       "'d:\\\\python_project\\\\DataScience\\\\StoresSalesPrediction\\\\BigMartStoreSalesPrediction'"
      ]
     },
     "execution_count": 4,
     "metadata": {},
     "output_type": "execute_result"
    }
   ],
   "source": [
    "%pwd"
   ]
  },
  {
   "cell_type": "code",
   "execution_count": 5,
   "metadata": {},
   "outputs": [],
   "source": [
    "from dataclasses import dataclass\n",
    "from pathlib import Path\n",
    "\n",
    "@dataclass(frozen=True)\n",
    "class DataTransformationConfig:\n",
    "    root_dir: Path\n",
    "    data_path: Path\n",
    "    train_data_path: Path\n",
    "    test_data_path: Path\n",
    "    mismatch_data_type_path: Path"
   ]
  },
  {
   "cell_type": "code",
   "execution_count": 6,
   "metadata": {},
   "outputs": [],
   "source": [
    "from salesPrediction.constants import *\n",
    "from salesPrediction.utils.common import read_yaml, create_directories"
   ]
  },
  {
   "cell_type": "code",
   "execution_count": 7,
   "metadata": {},
   "outputs": [],
   "source": [
    "class ConfigurationManager:\n",
    "    def __init__(\n",
    "            self,\n",
    "            config_filepath = CONFIG_FILE_PATH,\n",
    "            params_filepath = PARAMS_FILE_PATH,\n",
    "            schema_filepath = SCHEMA_FILE_PATH):\n",
    "        \n",
    "        self.config = read_yaml(config_filepath)\n",
    "        self.params = read_yaml(params_filepath)\n",
    "        self.schema = read_yaml(schema_filepath)\n",
    "\n",
    "        create_directories([self.config.artifacts_root])       \n",
    "\n",
    "    def get_data_transformation_config(self) -> DataTransformationConfig:\n",
    "        config = self.config.data_transformation\n",
    "\n",
    "        create_directories([config.root_dir])\n",
    "\n",
    "        data_transformation_config = DataTransformationConfig(\n",
    "            root_dir=config.root_dir,\n",
    "            data_path=config.data_path,\n",
    "            train_data_path=config.train_data_path,\n",
    "            test_data_path=config.test_data_path,\n",
    "            mismatch_data_type_path = config.mismatch_data_type_path\n",
    "        )\n",
    "\n",
    "        return data_transformation_config\n",
    " "
   ]
  },
  {
   "cell_type": "code",
   "execution_count": 8,
   "metadata": {},
   "outputs": [],
   "source": [
    "import os\n",
    "from salesPrediction import logger\n",
    "from sklearn.model_selection import train_test_split\n",
    "import pandas as pd\n",
    "from salesPrediction.config.configuration import DataTransformationConfig\n",
    "import json"
   ]
  },
  {
   "cell_type": "code",
   "execution_count": null,
   "metadata": {},
   "outputs": [],
   "source": [
    "class DataTransformation:\n",
    "    def __init__(self, config:DataTransformationConfig):\n",
    "        self.config = config\n",
    "        # we already have train and test data set in the resources folder, we only need to copy them \n",
    "        self.train_data = pd.read_csv(self.config.train_data_path)\n",
    "        self.test_data = pd.read_csv(self.config.test_data_path)\n",
    "    \n",
    "    def train_test_splitting(self):\n",
    "\n",
    "        print(self.train_data.dtypes)\n",
    "        self.train_data.to_csv(os.path.join(self.config.data_path, \"Train.csv\"), index=False)\n",
    "        self.test_data.to_csv(os.path.join(self.config.data_path, \"Test.csv\"), index= False)\n",
    "\n",
    "        logger.info(\"Completed saving train and test data to transformation folder\")\n",
    "        logger.info(self.train_data.shape)\n",
    "        logger.info(self.test_data.shape)\n",
    "\n",
    "        print(self.train_data.shape)\n",
    "        print(self.test_data.shape)\n",
    "    \n",
    "    def convert_column_datatype(self):\n",
    "        try:\n",
    "\n",
    "            with open(self.config.mismatch_data_type_path, \"r\") as f:\n",
    "                mismatched_cols =  json.loads(f.read())\n",
    "\n",
    "            data = pd.read_csv(self.config.train_data_path)\n",
    "            for col, dtype_info in mismatched_cols.items():\n",
    "                if dtype_info[\"expected\"] == \"string\":\n",
    "                    self.train_data[col] = self.train_data[col].astype(\"string\")\n",
    "                    logger.info(f\"Converted data type of column {col} to {dtype_info['expected']}\")\n",
    "\n",
    "        except Exception as e:\n",
    "            raise e"
   ]
  },
  {
   "cell_type": "code",
   "execution_count": 10,
   "metadata": {},
   "outputs": [],
   "source": [
    "from salesPrediction.utils.common import get_validation_status"
   ]
  },
  {
   "cell_type": "code",
   "execution_count": null,
   "metadata": {},
   "outputs": [
    {
     "name": "stdout",
     "output_type": "stream",
     "text": [
      "DATATYPE_MISMATCH\n",
      "[2025-03-03 12:16:03,727: 174169248: validation status ::  DATATYPE_MISMATCH]\n",
      "[2025-03-03 12:16:03,727: common:yaml file: config\\config.yaml loaded successfully]\n",
      "[2025-03-03 12:16:03,727: common:yaml file: params.yaml loaded successfully]\n",
      "[2025-03-03 12:16:03,743: common:yaml file: schema.yaml loaded successfully]\n",
      "[2025-03-03 12:16:03,745: common:created directory at artifacts]\n",
      "[2025-03-03 12:16:03,746: common:created directory at artifacts/data_transformation]\n",
      "hjahjdahsjdh DATATYPE_MISMATCH\n",
      "{'expected': 'string', 'actual': 'object'}\n",
      "[2025-03-03 12:16:03,780: 2561470484:Converted data type of column Item_Identifier to string]\n",
      "{'expected': 'string', 'actual': 'object'}\n",
      "[2025-03-03 12:16:03,792: 2561470484:Converted data type of column Item_Fat_Content to string]\n",
      "{'expected': 'string', 'actual': 'object'}\n",
      "[2025-03-03 12:16:03,794: 2561470484:Converted data type of column Item_Type to string]\n",
      "{'expected': 'string', 'actual': 'object'}\n",
      "[2025-03-03 12:16:03,796: 2561470484:Converted data type of column Outlet_Identifier to string]\n",
      "{'expected': 'string', 'actual': 'object'}\n",
      "[2025-03-03 12:16:03,798: 2561470484:Converted data type of column Outlet_Size to string]\n",
      "{'expected': 'string', 'actual': 'object'}\n",
      "[2025-03-03 12:16:03,800: 2561470484:Converted data type of column Outlet_Location_Type to string]\n",
      "{'expected': 'string', 'actual': 'object'}\n",
      "[2025-03-03 12:16:03,801: 2561470484:Converted data type of column Outlet_Type to string]\n",
      "Item_Identifier              string[python]\n",
      "Item_Weight                         float64\n",
      "Item_Fat_Content             string[python]\n",
      "Item_Visibility                     float64\n",
      "Item_Type                    string[python]\n",
      "Item_MRP                            float64\n",
      "Outlet_Identifier            string[python]\n",
      "Outlet_Establishment_Year             int64\n",
      "Outlet_Size                  string[python]\n",
      "Outlet_Location_Type         string[python]\n",
      "Outlet_Type                  string[python]\n",
      "Item_Outlet_Sales                   float64\n",
      "dtype: object {'Item_Identifier': {'expected': 'string', 'actual': 'object'}, 'Item_Fat_Content': {'expected': 'string', 'actual': 'object'}, 'Item_Type': {'expected': 'string', 'actual': 'object'}, 'Outlet_Identifier': {'expected': 'string', 'actual': 'object'}, 'Outlet_Size': {'expected': 'string', 'actual': 'object'}, 'Outlet_Location_Type': {'expected': 'string', 'actual': 'object'}, 'Outlet_Type': {'expected': 'string', 'actual': 'object'}}\n",
      "Item_Identifier              string[python]\n",
      "Item_Weight                         float64\n",
      "Item_Fat_Content             string[python]\n",
      "Item_Visibility                     float64\n",
      "Item_Type                    string[python]\n",
      "Item_MRP                            float64\n",
      "Outlet_Identifier            string[python]\n",
      "Outlet_Establishment_Year             int64\n",
      "Outlet_Size                  string[python]\n",
      "Outlet_Location_Type         string[python]\n",
      "Outlet_Type                  string[python]\n",
      "Item_Outlet_Sales                   float64\n",
      "dtype: object\n",
      "[2025-03-03 12:16:03,861: 2561470484:Completed saving train and test data to transformation folder]\n",
      "[2025-03-03 12:16:03,861: 2561470484:(8523, 12)]\n",
      "[2025-03-03 12:16:03,876: 2561470484:(5681, 11)]\n",
      "(8523, 12)\n",
      "(5681, 11)\n"
     ]
    }
   ],
   "source": [
    "try:\n",
    "    # check if data type mismatch present\n",
    "    validation_status = get_validation_status()\n",
    "    logger.info(f\" validation status ::  {validation_status}\")\n",
    "\n",
    "    if validation_status != False:\n",
    "\n",
    "        config = ConfigurationManager()\n",
    "        data_transformation_config = config.get_data_transformation_config()\n",
    "        data_transformation = DataTransformation(config=data_transformation_config)\n",
    "\n",
    "        # check if any datatype mismatch has occurred\n",
    "        if validation_status == \"DATATYPE_MISMATCH\":            \n",
    "            data_transformation.convert_column_datatype()            \n",
    "        \n",
    "        data_transformation.train_test_splitting()\n",
    "\n",
    "except Exception as e:\n",
    "    raise e\n"
   ]
  },
  {
   "cell_type": "code",
   "execution_count": null,
   "metadata": {},
   "outputs": [],
   "source": []
  }
 ],
 "metadata": {
  "kernelspec": {
   "display_name": "venv",
   "language": "python",
   "name": "python3"
  },
  "language_info": {
   "codemirror_mode": {
    "name": "ipython",
    "version": 3
   },
   "file_extension": ".py",
   "mimetype": "text/x-python",
   "name": "python",
   "nbconvert_exporter": "python",
   "pygments_lexer": "ipython3",
   "version": "3.9.0"
  }
 },
 "nbformat": 4,
 "nbformat_minor": 2
}
